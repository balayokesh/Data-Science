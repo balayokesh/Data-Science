{
 "cells": [
  {
   "cell_type": "markdown",
   "id": "0775fc25",
   "metadata": {},
   "source": [
    "# Assignment Question\n",
    "Create a Pie chart for the Football data on weight of the Football Player: <br /> \n",
    "Weight less than 125 <br />\n",
    "Weight between 125 and 150 <br />\n",
    "Weight between 150 and 175 <br />\n",
    "Weight between 175 and 200 <br />\n",
    "Weight above 200 <br />\n",
    "Properly Labeleed,  with Title"
   ]
  },
  {
   "cell_type": "code",
   "execution_count": 159,
   "id": "c4e60608",
   "metadata": {},
   "outputs": [],
   "source": [
    "import matplotlib.pyplot as plt\n",
    "import pandas as pd\n",
    "df = pd.read_csv('fifa_data.csv')"
   ]
  },
  {
   "cell_type": "code",
   "execution_count": 160,
   "id": "7f2fdb19",
   "metadata": {
    "scrolled": true
   },
   "outputs": [
    {
     "data": {
      "text/plain": [
       "([<matplotlib.patches.Wedge at 0x24b2cd58640>,\n",
       "  <matplotlib.patches.Wedge at 0x24b2cd58b80>,\n",
       "  <matplotlib.patches.Wedge at 0x24b2cd64070>,\n",
       "  <matplotlib.patches.Wedge at 0x24b2cd64580>,\n",
       "  <matplotlib.patches.Wedge at 0x24b2cd64a60>],\n",
       " [Text(1.0999702009966543, 0.00809672275555508, 'Weight between 125 and 150'),\n",
       "  Text(1.0017590979099333, 0.4543992845006214, 'Weight between 175 and 200'),\n",
       "  Text(-0.9804521094796822, 0.49871200207819477, 'Weight above 200'),\n",
       "  Text(0.6351197534804999, -0.8981218729876638, 'Weight less than 125'),\n",
       "  Text(1.097587157236946, -0.07281780186547643, 'Weight between 150 and 175')])"
      ]
     },
     "execution_count": 160,
     "metadata": {},
     "output_type": "execute_result"
    },
    {
     "data": {
      "image/png": "[encoded data removed]",
      "text/plain": [
       "<Figure size 432x288 with 1 Axes>"
      ]
     },
     "metadata": {},
     "output_type": "display_data"
    }
   ],
   "source": [
    "x = [df.loc[df['Weight'] < '125lbs'].count()[0], df.loc[(df['Weight'] > '125lbs') & (df['Weight'] < '150lbs')].count()[0], df.loc[(df['Weight'] > '150lbs') & (df['Weight'] < '175lbs')].count()[0], df.loc[(df['Weight'] > '175lbs') & (df['Weight'] < '200lbs')].count()[0], df.loc[df['Weight'] > '200lbs'].count()[0]]\n",
    "plt.pie(\n",
    "    x, \n",
    "    labels={'Weight less than 125', 'Weight between 125 and 150', 'Weight between 150 and 175', 'Weight between 175 and 200', 'Weight above 200'},\n",
    "    colors=None,\n",
    "    autopct=None,\n",
    "    pctdistance=0.6,\n",
    "    shadow=False,\n",
    "    labeldistance=1.1,\n",
    "    startangle=0,\n",
    "    radius=1,\n",
    "    counterclock=True\n",
    ")\n",
    "        "
   ]
  }
 ],
 "metadata": {
  "kernelspec": {
   "display_name": "Python 3",
   "language": "python",
   "name": "python3"
  },
  "language_info": {
   "codemirror_mode": {
    "name": "ipython",
    "version": 3
   },
   "file_extension": ".py",
   "mimetype": "text/x-python",
   "name": "python",
   "nbconvert_exporter": "python",
   "pygments_lexer": "ipython3",
   "version": "3.9.4"
  }
 },
 "nbformat": 4,
 "nbformat_minor": 5
}
