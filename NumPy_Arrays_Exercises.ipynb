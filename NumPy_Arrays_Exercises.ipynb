{
 "cells": [
  {
   "cell_type": "code",
   "execution_count": 1,
   "id": "9330fc3e",
   "metadata": {
    "id": "9330fc3e"
   },
   "outputs": [],
   "source": [
    "import numpy as np"
   ]
  },
  {
   "cell_type": "code",
   "execution_count": 2,
   "id": "13322657",
   "metadata": {
    "id": "13322657"
   },
   "outputs": [],
   "source": [
    "#create a 0 dimension array\n",
    "a = np.array(0)"
   ]
  },
  {
   "cell_type": "code",
   "execution_count": 3,
   "id": "f97e7253",
   "metadata": {
    "id": "f97e7253"
   },
   "outputs": [],
   "source": [
    "#create a 1 dimension array\n",
    "b = np.array([1, 2, 3, 4, 5])"
   ]
  },
  {
   "cell_type": "code",
   "execution_count": 4,
   "id": "19629d14",
   "metadata": {
    "id": "19629d14"
   },
   "outputs": [],
   "source": [
    "#create a 2 dimension array\n",
    "c = np.array([[1, 3, 5, 7], [2, 4, 6, 8]])"
   ]
  },
  {
   "cell_type": "markdown",
   "id": "32f1f69b",
   "metadata": {
    "id": "32f1f69b"
   },
   "source": [
    "## Why NumPy not lists"
   ]
  },
  {
   "cell_type": "code",
   "execution_count": 5,
   "id": "418e65cc",
   "metadata": {
    "id": "418e65cc"
   },
   "outputs": [
    {
     "data": {
      "text/plain": [
       "0"
      ]
     },
     "execution_count": 5,
     "metadata": {},
     "output_type": "execute_result"
    }
   ],
   "source": [
    "# Get Dimension\n",
    "a.ndim"
   ]
  },
  {
   "cell_type": "code",
   "execution_count": 6,
   "id": "d871e18d",
   "metadata": {
    "id": "d871e18d"
   },
   "outputs": [
    {
     "data": {
      "text/plain": [
       "(5,)"
      ]
     },
     "execution_count": 6,
     "metadata": {},
     "output_type": "execute_result"
    }
   ],
   "source": [
    "# Get Shape\n",
    "b.shape"
   ]
  },
  {
   "cell_type": "code",
   "execution_count": 7,
   "id": "b6ec7290",
   "metadata": {
    "id": "b6ec7290"
   },
   "outputs": [
    {
     "data": {
      "text/plain": [
       "dtype('int32')"
      ]
     },
     "execution_count": 7,
     "metadata": {},
     "output_type": "execute_result"
    }
   ],
   "source": [
    "# Get Type\n",
    "a.dtype"
   ]
  },
  {
   "cell_type": "code",
   "execution_count": 8,
   "id": "15f64944",
   "metadata": {
    "id": "15f64944"
   },
   "outputs": [
    {
     "data": {
      "text/plain": [
       "4"
      ]
     },
     "execution_count": 8,
     "metadata": {},
     "output_type": "execute_result"
    }
   ],
   "source": [
    "# Get Size\n",
    "a.itemsize"
   ]
  },
  {
   "cell_type": "code",
   "execution_count": 9,
   "id": "2fbd2abd",
   "metadata": {
    "id": "2fbd2abd"
   },
   "outputs": [
    {
     "data": {
      "text/plain": [
       "4"
      ]
     },
     "execution_count": 9,
     "metadata": {},
     "output_type": "execute_result"
    }
   ],
   "source": [
    "# Get total size\n",
    "a.nbytes"
   ]
  },
  {
   "cell_type": "code",
   "execution_count": 10,
   "id": "88b4ebff",
   "metadata": {
    "id": "88b4ebff"
   },
   "outputs": [
    {
     "data": {
      "text/plain": [
       "1"
      ]
     },
     "execution_count": 10,
     "metadata": {},
     "output_type": "execute_result"
    }
   ],
   "source": [
    "# Get number of elements\n",
    "a.size"
   ]
  },
  {
   "cell_type": "markdown",
   "id": "88ccd2f0",
   "metadata": {
    "id": "88ccd2f0"
   },
   "source": [
    "### Accessing/Changing specific elements, rows, columns, etc"
   ]
  },
  {
   "cell_type": "code",
   "execution_count": 11,
   "id": "b741c759",
   "metadata": {
    "id": "b741c759"
   },
   "outputs": [
    {
     "name": "stdout",
     "output_type": "stream",
     "text": [
      "[[ 1  2  3  4  5  6  7]\n",
      " [ 8  9 10 11 12 13 14]]\n"
     ]
    }
   ],
   "source": [
    "a = np.array([[1,2,3,4,5,6,7],[8,9,10,11,12,13,14]])\n",
    "print(a)"
   ]
  },
  {
   "cell_type": "markdown",
   "id": "9a783cdf",
   "metadata": {
    "id": "9a783cdf"
   },
   "source": [
    "### - Numpy Array Exercises "
   ]
  },
  {
   "cell_type": "code",
   "execution_count": 12,
   "id": "3044df5f",
   "metadata": {
    "id": "3044df5f"
   },
   "outputs": [],
   "source": [
    "# Create an array with variable name a and the following contents (shape (3, 4)):\n",
    "a = np.array([[1, 2, 3, 4], [5, 6, 7, 8], [9, 10, 11, 12]])"
   ]
  },
  {
   "cell_type": "code",
   "execution_count": 13,
   "id": "dd9c911a",
   "metadata": {
    "id": "dd9c911a"
   },
   "outputs": [
    {
     "data": {
      "text/plain": [
       "(3, 4)"
      ]
     },
     "execution_count": 13,
     "metadata": {},
     "output_type": "execute_result"
    }
   ],
   "source": [
    "#What is the array shape?\n",
    "#Array shape is the representation of its row and width ie: (row, column)\n",
    "a.shape"
   ]
  },
  {
   "cell_type": "code",
   "execution_count": 14,
   "id": "7f42206e",
   "metadata": {
    "id": "7f42206e"
   },
   "outputs": [
    {
     "data": {
      "text/plain": [
       "2"
      ]
     },
     "execution_count": 14,
     "metadata": {},
     "output_type": "execute_result"
    }
   ],
   "source": [
    "#What is the array ndim?\n",
    "# Ndim is the number of dimensions in an array\n",
    "a.ndim"
   ]
  },
  {
   "cell_type": "code",
   "execution_count": 15,
   "id": "5244c2c7",
   "metadata": {
    "id": "5244c2c7"
   },
   "outputs": [
    {
     "data": {
      "text/plain": [
       "3"
      ]
     },
     "execution_count": 15,
     "metadata": {},
     "output_type": "execute_result"
    }
   ],
   "source": [
    "#How about the len of the array?\n",
    "# len is the length or number of elements in an array (outermost elements or rows)\n",
    "len(a)"
   ]
  },
  {
   "cell_type": "markdown",
   "id": "1594c1dd",
   "metadata": {
    "id": "1594c1dd"
   },
   "source": [
    "### Creating arrays using functions"
   ]
  },
  {
   "cell_type": "code",
   "execution_count": 16,
   "id": "af437f5a",
   "metadata": {
    "id": "af437f5a"
   },
   "outputs": [
    {
     "data": {
      "text/plain": [
       "array([2.        , 2.06122449, 2.12244898, 2.18367347, 2.24489796,\n",
       "       2.30612245, 2.36734694, 2.42857143, 2.48979592, 2.55102041,\n",
       "       2.6122449 , 2.67346939, 2.73469388, 2.79591837, 2.85714286,\n",
       "       2.91836735, 2.97959184, 3.04081633, 3.10204082, 3.16326531,\n",
       "       3.2244898 , 3.28571429, 3.34693878, 3.40816327, 3.46938776,\n",
       "       3.53061224, 3.59183673, 3.65306122, 3.71428571, 3.7755102 ,\n",
       "       3.83673469, 3.89795918, 3.95918367, 4.02040816, 4.08163265,\n",
       "       4.14285714, 4.20408163, 4.26530612, 4.32653061, 4.3877551 ,\n",
       "       4.44897959, 4.51020408, 4.57142857, 4.63265306, 4.69387755,\n",
       "       4.75510204, 4.81632653, 4.87755102, 4.93877551, 5.        ])"
      ]
     },
     "execution_count": 16,
     "metadata": {},
     "output_type": "execute_result"
    }
   ],
   "source": [
    "#Create a 1D array from 2 through 5 inclusive.\n",
    "np.linspace(2, 5)"
   ]
  },
  {
   "cell_type": "code",
   "execution_count": 17,
   "id": "5c97bac3",
   "metadata": {
    "id": "5c97bac3"
   },
   "outputs": [
    {
     "data": {
      "text/plain": [
       "array([2.        , 2.33333333, 2.66666667, 3.        , 3.33333333,\n",
       "       3.66666667, 4.        , 4.33333333, 4.66666667, 5.        ])"
      ]
     },
     "execution_count": 17,
     "metadata": {},
     "output_type": "execute_result"
    }
   ],
   "source": [
    "#Make an array with 10 equally spaced elements between 2 and 5 inclusive.\n",
    "np.linspace(2, 5, 10)"
   ]
  },
  {
   "cell_type": "code",
   "execution_count": 18,
   "id": "246d2afa",
   "metadata": {
    "id": "246d2afa"
   },
   "outputs": [
    {
     "data": {
      "text/plain": [
       "array([[1., 1., 1., 1.],\n",
       "       [1., 1., 1., 1.],\n",
       "       [1., 1., 1., 1.],\n",
       "       [1., 1., 1., 1.]])"
      ]
     },
     "execution_count": 18,
     "metadata": {},
     "output_type": "execute_result"
    }
   ],
   "source": [
    "#Make an all-ones array shape (4, 4).\n",
    "np.ones([4,4])"
   ]
  },
  {
   "cell_type": "code",
   "execution_count": 19,
   "id": "d7cd7254",
   "metadata": {
    "id": "d7cd7254"
   },
   "outputs": [
    {
     "data": {
      "text/plain": [
       "array([[1., 0., 0., 0., 0., 0.],\n",
       "       [0., 1., 0., 0., 0., 0.],\n",
       "       [0., 0., 1., 0., 0., 0.],\n",
       "       [0., 0., 0., 1., 0., 0.],\n",
       "       [0., 0., 0., 0., 1., 0.],\n",
       "       [0., 0., 0., 0., 0., 1.]])"
      ]
     },
     "execution_count": 19,
     "metadata": {},
     "output_type": "execute_result"
    }
   ],
   "source": [
    "#Make an identity array shape (6, 6).\n",
    "np.identity(6)"
   ]
  },
  {
   "cell_type": "code",
   "execution_count": 20,
   "id": "7d4b910a",
   "metadata": {
    "id": "7d4b910a"
   },
   "outputs": [
    {
     "data": {
      "text/plain": [
       "array([[1, 0, 0],\n",
       "       [0, 2, 0],\n",
       "       [0, 0, 3]])"
      ]
     },
     "execution_count": 20,
     "metadata": {},
     "output_type": "execute_result"
    }
   ],
   "source": [
    "#Make this array with a single Python / numpy command:\n",
    "# 1  0  0\n",
    "# 0  2  0\n",
    "# 0  0  3\n",
    "np.array([[1, 0, 0], [0, 2, 0], [0, 0, 3]])"
   ]
  },
  {
   "cell_type": "code",
   "execution_count": 21,
   "id": "387a1283",
   "metadata": {
    "id": "387a1283"
   },
   "outputs": [
    {
     "data": {
      "text/plain": [
       "array([[0.12847827, 0.36892995, 0.80495675, 0.69669976, 0.09042565],\n",
       "       [0.14321002, 0.27691425, 0.99529548, 0.08099657, 0.45228937],\n",
       "       [0.70651963, 0.22588775, 0.00701879, 0.29196232, 0.81509621]])"
      ]
     },
     "execution_count": 21,
     "metadata": {},
     "output_type": "execute_result"
    }
   ],
   "source": [
    "#Make a Array of random numbers shape 3, 5\n",
    "np.random.rand(3,5)"
   ]
  },
  {
   "cell_type": "markdown",
   "id": "0ecdcbc9",
   "metadata": {
    "id": "0ecdcbc9"
   },
   "source": [
    "### Indexing and slicing, array creation"
   ]
  },
  {
   "cell_type": "code",
   "execution_count": 22,
   "id": "174c1e9f",
   "metadata": {
    "id": "174c1e9f"
   },
   "outputs": [
    {
     "name": "stdout",
     "output_type": "stream",
     "text": [
      "2nd row of a is:  [3 9 3 4]\n",
      "3rd column of a is:  [12  3  1]\n",
      "Datatype of a is: int32\n",
      "Datatype of b is: float64\n"
     ]
    }
   ],
   "source": [
    "#Create the following array, call this a:\n",
    "# 2  7 12  0\n",
    "# 3  9  3  4\n",
    "# 4  0  1  3\n",
    "\n",
    "a = np.array([\n",
    "    [2, 7, 12, 0],\n",
    "    [3, 9, 3, 4],\n",
    "    [4, 0, 1, 3]\n",
    "])\n",
    "\n",
    "#Get the 2nd row of a\n",
    "print (\"2nd row of a is: \", a[1])\n",
    "\n",
    "#Get the 3rd column of a\n",
    "print (\"3rd column of a is: \", a[:,2])\n",
    "\n",
    "#Create the following arrays (with correct data types):\n",
    "# [[1, 1, 1, 1],\n",
    "#  [1, 1, 1, 1],\n",
    "#  [1, 1, 1, 2],\n",
    "#  [1, 6, 1, 1]]\n",
    "a = np.array([\n",
    "     [1, 1, 1, 1],\n",
    "     [1, 1, 1, 1],\n",
    "     [1, 1, 1, 2],\n",
    "     [1, 6, 1, 1]\n",
    "])\n",
    "\n",
    "# [[0., 0., 0., 0., 0.],\n",
    "#  [2., 0., 0., 0., 0.],\n",
    "#  [0., 3., 0., 0., 0.],\n",
    "#  [0., 0., 4., 0., 0.],\n",
    "#  [0., 0., 0., 5., 0.],\n",
    "#  [0., 0., 0., 0., 6.]]\n",
    "b = np.array(\n",
    "    [[0., 0., 0., 0., 0.],\n",
    "     [2., 0., 0., 0., 0.],\n",
    "     [0., 3., 0., 0., 0.],\n",
    "     [0., 0., 4., 0., 0.],\n",
    "     [0., 0., 0., 5., 0.],\n",
    "     [0., 0., 0., 0., 6.]]\n",
    ")\n",
    "print (\"Datatype of a is:\", a.dtype)\n",
    "print (\"Datatype of b is:\", b.dtype)"
   ]
  }
 ],
 "metadata": {
  "colab": {
   "name": "NumPy - Arrays - Exercises.ipynb",
   "provenance": []
  },
  "kernelspec": {
   "display_name": "Python 3",
   "language": "python",
   "name": "python3"
  },
  "language_info": {
   "codemirror_mode": {
    "name": "ipython",
    "version": 3
   },
   "file_extension": ".py",
   "mimetype": "text/x-python",
   "name": "python",
   "nbconvert_exporter": "python",
   "pygments_lexer": "ipython3",
   "version": "3.9.4"
  }
 },
 "nbformat": 4,
 "nbformat_minor": 5
}
